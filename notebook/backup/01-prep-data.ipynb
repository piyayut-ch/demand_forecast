{
 "cells": [
  {
   "cell_type": "markdown",
   "metadata": {},
   "source": [
    "# Setup"
   ]
  },
  {
   "cell_type": "code",
   "execution_count": 1,
   "metadata": {},
   "outputs": [
    {
     "name": "stderr",
     "output_type": "stream",
     "text": [
      "Loading required package: xfun\n",
      "\n",
      "\n",
      "Attaching package: 'xfun'\n",
      "\n",
      "\n",
      "The following objects are masked from 'package:base':\n",
      "\n",
      "    attr, isFALSE\n",
      "\n",
      "\n"
     ]
    }
   ],
   "source": [
    "if (!require(\"xfun\")) install.packages(\"xfun\")\n",
    "pkgs = c(\n",
    "  'forecast', 'vars', 'urca', 'MLmetrics', \n",
    "  'lubridate', 'tsbox', 'timetk',\n",
    "  'extrafont', 'patchwork', 'hrbrthemes', 'ggthemes', 'ggsci', 'scales', \n",
    "  'tidyverse', 'readxl', 'writexl'\n",
    ")\n",
    "xfun::pkg_attach2(pkgs, message = FALSE)\n",
    "\n",
    "options(\n",
    "  repr.plot.width=10, \n",
    "  repr.plot.height=6, \n",
    "  repr.plot.res = 300,\n",
    "  repr.matrix.max.rows = 10,\n",
    "  repr.matrix.max.cols = Inf\n",
    ")\n",
    "\n",
    "loadfonts(device = \"win\", quiet = TRUE)"
   ]
  },
  {
   "cell_type": "code",
   "execution_count": null,
   "metadata": {},
   "outputs": [],
   "source": []
  },
  {
   "cell_type": "markdown",
   "metadata": {},
   "source": [
    "# Clean Data\n",
    "- import data from excel files\n",
    "- make wide and long format\n",
    "- make annaul and monthly frequency\n",
    "- production = export + consumption\n",
    "\n",
    "## Production Data"
   ]
  },
  {
   "cell_type": "code",
   "execution_count": 2,
   "metadata": {},
   "outputs": [
    {
     "name": "stderr",
     "output_type": "stream",
     "text": [
      "`summarise()` regrouping output by 'year' (override with `.groups` argument)\n",
      "\n"
     ]
    },
    {
     "data": {
      "text/html": [
       "<table>\n",
       "<caption>A tibble: 6 × 5</caption>\n",
       "<thead>\n",
       "\t<tr><th scope=col>year_th</th><th scope=col>q_pathum</th><th scope=col>q_hommali</th><th scope=col>q_white</th><th scope=col>q_glutinous</th></tr>\n",
       "\t<tr><th scope=col>&lt;dbl&gt;</th><th scope=col>&lt;dbl&gt;</th><th scope=col>&lt;dbl&gt;</th><th scope=col>&lt;dbl&gt;</th><th scope=col>&lt;dbl&gt;</th></tr>\n",
       "</thead>\n",
       "<tbody>\n",
       "\t<tr><td>2557</td><td>1037038.2</td><td>5693006</td><td>12490115</td><td>5042944</td></tr>\n",
       "\t<tr><td>2558</td><td> 737410.7</td><td>5764920</td><td> 9656676</td><td>4708132</td></tr>\n",
       "\t<tr><td>2559</td><td> 664396.3</td><td>5796894</td><td> 7492643</td><td>4143932</td></tr>\n",
       "\t<tr><td>2560</td><td> 919589.2</td><td>6125247</td><td> 9470159</td><td>4510751</td></tr>\n",
       "\t<tr><td>2561</td><td> 865119.4</td><td>5982158</td><td>10568502</td><td>4297496</td></tr>\n",
       "\t<tr><td>2562</td><td>1140052.3</td><td>5860384</td><td>10237382</td><td>4111937</td></tr>\n",
       "</tbody>\n",
       "</table>\n"
      ],
      "text/latex": [
       "A tibble: 6 × 5\n",
       "\\begin{tabular}{lllll}\n",
       " year\\_th & q\\_pathum & q\\_hommali & q\\_white & q\\_glutinous\\\\\n",
       " <dbl> & <dbl> & <dbl> & <dbl> & <dbl>\\\\\n",
       "\\hline\n",
       "\t 2557 & 1037038.2 & 5693006 & 12490115 & 5042944\\\\\n",
       "\t 2558 &  737410.7 & 5764920 &  9656676 & 4708132\\\\\n",
       "\t 2559 &  664396.3 & 5796894 &  7492643 & 4143932\\\\\n",
       "\t 2560 &  919589.2 & 6125247 &  9470159 & 4510751\\\\\n",
       "\t 2561 &  865119.4 & 5982158 & 10568502 & 4297496\\\\\n",
       "\t 2562 & 1140052.3 & 5860384 & 10237382 & 4111937\\\\\n",
       "\\end{tabular}\n"
      ],
      "text/markdown": [
       "\n",
       "A tibble: 6 × 5\n",
       "\n",
       "| year_th &lt;dbl&gt; | q_pathum &lt;dbl&gt; | q_hommali &lt;dbl&gt; | q_white &lt;dbl&gt; | q_glutinous &lt;dbl&gt; |\n",
       "|---|---|---|---|---|\n",
       "| 2557 | 1037038.2 | 5693006 | 12490115 | 5042944 |\n",
       "| 2558 |  737410.7 | 5764920 |  9656676 | 4708132 |\n",
       "| 2559 |  664396.3 | 5796894 |  7492643 | 4143932 |\n",
       "| 2560 |  919589.2 | 6125247 |  9470159 | 4510751 |\n",
       "| 2561 |  865119.4 | 5982158 | 10568502 | 4297496 |\n",
       "| 2562 | 1140052.3 | 5860384 | 10237382 | 4111937 |\n",
       "\n"
      ],
      "text/plain": [
       "  year_th q_pathum  q_hommali q_white  q_glutinous\n",
       "1 2557    1037038.2 5693006   12490115 5042944    \n",
       "2 2558     737410.7 5764920    9656676 4708132    \n",
       "3 2559     664396.3 5796894    7492643 4143932    \n",
       "4 2560     919589.2 6125247    9470159 4510751    \n",
       "5 2561     865119.4 5982158   10568502 4297496    \n",
       "6 2562    1140052.3 5860384   10237382 4111937    "
      ]
     },
     "metadata": {},
     "output_type": "display_data"
    }
   ],
   "source": [
    "production <- read_excel('../data/raw/rice_production.xlsx', 'all')\n",
    "\n",
    "production_y <- production %>% \n",
    "  group_by(year, rice_type) %>%\n",
    "  summarize(\n",
    "    area_plant = sum(area_plant),\n",
    "    area_harvest = sum(area_harvest),\n",
    "    production = sum(production)*0.66 # convert to milled rice\n",
    "  ) %>%\n",
    "  mutate(\n",
    "    yield_plant = production*1000/area_plant,\n",
    "    yield_harvest = production*1000/area_harvest\n",
    "  ) %>% ungroup()\n",
    "\n",
    "production_wide_y <- production_y %>%\n",
    "  pivot_wider(\n",
    "    year,\n",
    "    rice_type,\n",
    "    values_from = production\n",
    "  )\n",
    "\n",
    "names(production_wide_y) <- c(\n",
    "  'year_th', 'q_pathum', 'q_hommali', 'q_white', 'q_glutinous'\n",
    ")\n",
    "\n",
    "production_wide_y %>% tail()"
   ]
  },
  {
   "cell_type": "markdown",
   "metadata": {},
   "source": [
    "## Export Data"
   ]
  },
  {
   "cell_type": "code",
   "execution_count": 3,
   "metadata": {},
   "outputs": [
    {
     "name": "stderr",
     "output_type": "stream",
     "text": [
      "`summarise()` regrouping output by 'year_th' (override with `.groups` argument)\n",
      "\n",
      "`summarise()` regrouping output by 'year_th', 'month' (override with `.groups` argument)\n",
      "\n"
     ]
    },
    {
     "data": {
      "text/html": [
       "<table>\n",
       "<caption>A tibble: 6 × 7</caption>\n",
       "<thead>\n",
       "\t<tr><th scope=col>year_th</th><th scope=col>month</th><th scope=col>ex_glutinous</th><th scope=col>ex_white</th><th scope=col>ex_hommali</th><th scope=col>ex_pathum</th><th scope=col>ex_colored</th></tr>\n",
       "\t<tr><th scope=col>&lt;dbl&gt;</th><th scope=col>&lt;chr&gt;</th><th scope=col>&lt;dbl&gt;</th><th scope=col>&lt;dbl&gt;</th><th scope=col>&lt;dbl&gt;</th><th scope=col>&lt;dbl&gt;</th><th scope=col>&lt;dbl&gt;</th></tr>\n",
       "</thead>\n",
       "<tbody>\n",
       "\t<tr><td>2545</td><td>01</td><td>13054.26</td><td>665723.1</td><td> 11889.38</td><td>0</td><td>0</td></tr>\n",
       "\t<tr><td>2545</td><td>02</td><td>18478.14</td><td>451630.1</td><td> 27416.01</td><td>0</td><td>0</td></tr>\n",
       "\t<tr><td>2545</td><td>03</td><td>14681.43</td><td>547161.8</td><td> 41099.09</td><td>0</td><td>0</td></tr>\n",
       "\t<tr><td>2545</td><td>04</td><td>20208.44</td><td>525740.0</td><td> 17749.08</td><td>0</td><td>0</td></tr>\n",
       "\t<tr><td>2545</td><td>05</td><td>18239.31</td><td>436294.4</td><td> 46268.54</td><td>0</td><td>0</td></tr>\n",
       "\t<tr><td>2545</td><td>06</td><td>15290.16</td><td>367622.9</td><td>144787.19</td><td>0</td><td>0</td></tr>\n",
       "</tbody>\n",
       "</table>\n"
      ],
      "text/latex": [
       "A tibble: 6 × 7\n",
       "\\begin{tabular}{lllllll}\n",
       " year\\_th & month & ex\\_glutinous & ex\\_white & ex\\_hommali & ex\\_pathum & ex\\_colored\\\\\n",
       " <dbl> & <chr> & <dbl> & <dbl> & <dbl> & <dbl> & <dbl>\\\\\n",
       "\\hline\n",
       "\t 2545 & 01 & 13054.26 & 665723.1 &  11889.38 & 0 & 0\\\\\n",
       "\t 2545 & 02 & 18478.14 & 451630.1 &  27416.01 & 0 & 0\\\\\n",
       "\t 2545 & 03 & 14681.43 & 547161.8 &  41099.09 & 0 & 0\\\\\n",
       "\t 2545 & 04 & 20208.44 & 525740.0 &  17749.08 & 0 & 0\\\\\n",
       "\t 2545 & 05 & 18239.31 & 436294.4 &  46268.54 & 0 & 0\\\\\n",
       "\t 2545 & 06 & 15290.16 & 367622.9 & 144787.19 & 0 & 0\\\\\n",
       "\\end{tabular}\n"
      ],
      "text/markdown": [
       "\n",
       "A tibble: 6 × 7\n",
       "\n",
       "| year_th &lt;dbl&gt; | month &lt;chr&gt; | ex_glutinous &lt;dbl&gt; | ex_white &lt;dbl&gt; | ex_hommali &lt;dbl&gt; | ex_pathum &lt;dbl&gt; | ex_colored &lt;dbl&gt; |\n",
       "|---|---|---|---|---|---|---|\n",
       "| 2545 | 01 | 13054.26 | 665723.1 |  11889.38 | 0 | 0 |\n",
       "| 2545 | 02 | 18478.14 | 451630.1 |  27416.01 | 0 | 0 |\n",
       "| 2545 | 03 | 14681.43 | 547161.8 |  41099.09 | 0 | 0 |\n",
       "| 2545 | 04 | 20208.44 | 525740.0 |  17749.08 | 0 | 0 |\n",
       "| 2545 | 05 | 18239.31 | 436294.4 |  46268.54 | 0 | 0 |\n",
       "| 2545 | 06 | 15290.16 | 367622.9 | 144787.19 | 0 | 0 |\n",
       "\n"
      ],
      "text/plain": [
       "  year_th month ex_glutinous ex_white ex_hommali ex_pathum ex_colored\n",
       "1 2545    01    13054.26     665723.1  11889.38  0         0         \n",
       "2 2545    02    18478.14     451630.1  27416.01  0         0         \n",
       "3 2545    03    14681.43     547161.8  41099.09  0         0         \n",
       "4 2545    04    20208.44     525740.0  17749.08  0         0         \n",
       "5 2545    05    18239.31     436294.4  46268.54  0         0         \n",
       "6 2545    06    15290.16     367622.9 144787.19  0         0         "
      ]
     },
     "metadata": {},
     "output_type": "display_data"
    }
   ],
   "source": [
    "# Read and join meta data\n",
    "export <- read_rds('../data/raw/export_1006_master.rds')\n",
    "export_meta <- read_excel('../data/raw/meta_hs1006_th.xlsx')\n",
    "export_joined <- export %>% left_join(export_meta, by = c('hscode' = 'hscode'))\n",
    "\n",
    "\n",
    "# Yearly data\n",
    "export_y <- export_joined %>% \n",
    "  group_by(year_th, varities) %>%\n",
    "  summarize(vol = sum(vol)) %>% ungroup()\n",
    "\n",
    "export_wide_y <- export_y %>%\n",
    "  pivot_wider(\n",
    "    year_th,\n",
    "    varities,\n",
    "    values_from = vol\n",
    "  )\n",
    "\n",
    "names(export_wide_y) <- c(\n",
    "  'year_th', 'ex_glutinous', 'ex_white', \n",
    "  'ex_hommali', 'ex_pathum', 'ex_colored'\n",
    ")\n",
    "\n",
    "\n",
    "# Monthly data\n",
    "export_m <- export_joined %>% \n",
    "  group_by(year_th, month, varities) %>%\n",
    "  summarize(vol = sum(vol)) %>% ungroup()\n",
    "\n",
    "export_wide_m <- export_m %>%\n",
    "  pivot_wider(\n",
    "    c(year_th, month),\n",
    "    varities,\n",
    "    values_from = vol,\n",
    "    values_fill = 0\n",
    "  ) %>% filter(year_th >= 2545)\n",
    "\n",
    "names(export_wide_m) <- c(\n",
    "  'year_th', 'month',\n",
    "  'ex_glutinous','ex_white','ex_hommali','ex_pathum','ex_colored'\n",
    ")\n",
    "\n",
    "head(export_wide_m)"
   ]
  },
  {
   "cell_type": "markdown",
   "metadata": {},
   "source": [
    "## Domestic Consumption"
   ]
  },
  {
   "cell_type": "code",
   "execution_count": 4,
   "metadata": {},
   "outputs": [
    {
     "data": {
      "text/html": [
       "<table>\n",
       "<caption>A tibble: 6 × 8</caption>\n",
       "<thead>\n",
       "\t<tr><th scope=col>year_th</th><th scope=col>month</th><th scope=col>ex_glutinous</th><th scope=col>ex_white</th><th scope=col>ex_hommali</th><th scope=col>ex_pathum</th><th scope=col>ex_colored</th><th scope=col>date</th></tr>\n",
       "\t<tr><th scope=col>&lt;dbl&gt;</th><th scope=col>&lt;chr&gt;</th><th scope=col>&lt;dbl&gt;</th><th scope=col>&lt;dbl&gt;</th><th scope=col>&lt;dbl&gt;</th><th scope=col>&lt;dbl&gt;</th><th scope=col>&lt;dbl&gt;</th><th scope=col>&lt;date&gt;</th></tr>\n",
       "</thead>\n",
       "<tbody>\n",
       "\t<tr><td>2562</td><td>07</td><td> 7692.439</td><td>394990.9</td><td>106111.0</td><td>39387.40</td><td>532.370</td><td>2019-07-01</td></tr>\n",
       "\t<tr><td>2562</td><td>08</td><td> 5470.075</td><td>283164.5</td><td>105461.6</td><td>53798.72</td><td>580.804</td><td>2019-08-01</td></tr>\n",
       "\t<tr><td>2562</td><td>09</td><td> 3753.291</td><td>429410.5</td><td>102659.0</td><td>40384.34</td><td>466.939</td><td>2019-09-01</td></tr>\n",
       "\t<tr><td>2562</td><td>10</td><td> 4615.151</td><td>450419.0</td><td> 95889.8</td><td>55231.47</td><td>762.916</td><td>2019-10-01</td></tr>\n",
       "\t<tr><td>2562</td><td>11</td><td>10173.654</td><td>391762.7</td><td>139231.7</td><td>35749.23</td><td>778.133</td><td>2019-11-01</td></tr>\n",
       "\t<tr><td>2562</td><td>12</td><td>12112.880</td><td>280986.1</td><td>138271.8</td><td>32232.51</td><td>878.974</td><td>2019-12-01</td></tr>\n",
       "</tbody>\n",
       "</table>\n"
      ],
      "text/latex": [
       "A tibble: 6 × 8\n",
       "\\begin{tabular}{llllllll}\n",
       " year\\_th & month & ex\\_glutinous & ex\\_white & ex\\_hommali & ex\\_pathum & ex\\_colored & date\\\\\n",
       " <dbl> & <chr> & <dbl> & <dbl> & <dbl> & <dbl> & <dbl> & <date>\\\\\n",
       "\\hline\n",
       "\t 2562 & 07 &  7692.439 & 394990.9 & 106111.0 & 39387.40 & 532.370 & 2019-07-01\\\\\n",
       "\t 2562 & 08 &  5470.075 & 283164.5 & 105461.6 & 53798.72 & 580.804 & 2019-08-01\\\\\n",
       "\t 2562 & 09 &  3753.291 & 429410.5 & 102659.0 & 40384.34 & 466.939 & 2019-09-01\\\\\n",
       "\t 2562 & 10 &  4615.151 & 450419.0 &  95889.8 & 55231.47 & 762.916 & 2019-10-01\\\\\n",
       "\t 2562 & 11 & 10173.654 & 391762.7 & 139231.7 & 35749.23 & 778.133 & 2019-11-01\\\\\n",
       "\t 2562 & 12 & 12112.880 & 280986.1 & 138271.8 & 32232.51 & 878.974 & 2019-12-01\\\\\n",
       "\\end{tabular}\n"
      ],
      "text/markdown": [
       "\n",
       "A tibble: 6 × 8\n",
       "\n",
       "| year_th &lt;dbl&gt; | month &lt;chr&gt; | ex_glutinous &lt;dbl&gt; | ex_white &lt;dbl&gt; | ex_hommali &lt;dbl&gt; | ex_pathum &lt;dbl&gt; | ex_colored &lt;dbl&gt; | date &lt;date&gt; |\n",
       "|---|---|---|---|---|---|---|---|\n",
       "| 2562 | 07 |  7692.439 | 394990.9 | 106111.0 | 39387.40 | 532.370 | 2019-07-01 |\n",
       "| 2562 | 08 |  5470.075 | 283164.5 | 105461.6 | 53798.72 | 580.804 | 2019-08-01 |\n",
       "| 2562 | 09 |  3753.291 | 429410.5 | 102659.0 | 40384.34 | 466.939 | 2019-09-01 |\n",
       "| 2562 | 10 |  4615.151 | 450419.0 |  95889.8 | 55231.47 | 762.916 | 2019-10-01 |\n",
       "| 2562 | 11 | 10173.654 | 391762.7 | 139231.7 | 35749.23 | 778.133 | 2019-11-01 |\n",
       "| 2562 | 12 | 12112.880 | 280986.1 | 138271.8 | 32232.51 | 878.974 | 2019-12-01 |\n",
       "\n"
      ],
      "text/plain": [
       "  year_th month ex_glutinous ex_white ex_hommali ex_pathum ex_colored\n",
       "1 2562    07     7692.439    394990.9 106111.0   39387.40  532.370   \n",
       "2 2562    08     5470.075    283164.5 105461.6   53798.72  580.804   \n",
       "3 2562    09     3753.291    429410.5 102659.0   40384.34  466.939   \n",
       "4 2562    10     4615.151    450419.0  95889.8   55231.47  762.916   \n",
       "5 2562    11    10173.654    391762.7 139231.7   35749.23  778.133   \n",
       "6 2562    12    12112.880    280986.1 138271.8   32232.51  878.974   \n",
       "  date      \n",
       "1 2019-07-01\n",
       "2 2019-08-01\n",
       "3 2019-09-01\n",
       "4 2019-10-01\n",
       "5 2019-11-01\n",
       "6 2019-12-01"
      ]
     },
     "metadata": {},
     "output_type": "display_data"
    },
    {
     "data": {
      "text/html": [
       "<table>\n",
       "<caption>A tibble: 6 × 14</caption>\n",
       "<thead>\n",
       "\t<tr><th scope=col>year_th</th><th scope=col>ex_glutinous</th><th scope=col>ex_white</th><th scope=col>ex_hommali</th><th scope=col>ex_pathum</th><th scope=col>ex_colored</th><th scope=col>q_pathum</th><th scope=col>q_hommali</th><th scope=col>q_white</th><th scope=col>q_glutinous</th><th scope=col>dom_hommali</th><th scope=col>dom_pathum</th><th scope=col>dom_white</th><th scope=col>dom_glutinous</th></tr>\n",
       "\t<tr><th scope=col>&lt;dbl&gt;</th><th scope=col>&lt;dbl&gt;</th><th scope=col>&lt;dbl&gt;</th><th scope=col>&lt;dbl&gt;</th><th scope=col>&lt;dbl&gt;</th><th scope=col>&lt;dbl&gt;</th><th scope=col>&lt;dbl&gt;</th><th scope=col>&lt;dbl&gt;</th><th scope=col>&lt;dbl&gt;</th><th scope=col>&lt;dbl&gt;</th><th scope=col>&lt;dbl&gt;</th><th scope=col>&lt;dbl&gt;</th><th scope=col>&lt;dbl&gt;</th><th scope=col>&lt;dbl&gt;</th></tr>\n",
       "</thead>\n",
       "<tbody>\n",
       "\t<tr><td>2557</td><td>334083.7</td><td>8604516</td><td>1869673</td><td>161071.4</td><td>      NA</td><td>1037038.2</td><td>5693006</td><td>12490115</td><td>5042944</td><td>3823333</td><td>875966.8</td><td>3885598.3</td><td>4708860</td></tr>\n",
       "\t<tr><td>2558</td><td>264432.5</td><td>7419719</td><td>1987232</td><td>124397.8</td><td>      NA</td><td> 737410.7</td><td>5764920</td><td> 9656676</td><td>4708132</td><td>3777689</td><td>613013.0</td><td>2236957.9</td><td>4443700</td></tr>\n",
       "\t<tr><td>2559</td><td>337273.7</td><td>7071017</td><td>2367685</td><td>131892.0</td><td>      NA</td><td> 664396.3</td><td>5796894</td><td> 7492643</td><td>4143932</td><td>3429208</td><td>532504.2</td><td> 421625.6</td><td>3806658</td></tr>\n",
       "\t<tr><td>2560</td><td>256136.8</td><td>8711069</td><td>2308789</td><td>386209.9</td><td>12126.20</td><td> 919589.2</td><td>6125247</td><td> 9470159</td><td>4510751</td><td>3816458</td><td>533379.4</td><td> 759089.1</td><td>4254614</td></tr>\n",
       "\t<tr><td>2561</td><td>223977.8</td><td>8876723</td><td>1665658</td><td>454415.1</td><td>11402.34</td><td> 865119.4</td><td>5982158</td><td>10568502</td><td>4297496</td><td>4316500</td><td>410704.3</td><td>1691778.8</td><td>4073518</td></tr>\n",
       "\t<tr><td>2562</td><td>130604.2</td><td>5515012</td><td>1410811</td><td>514007.5</td><td>10077.93</td><td>1140052.3</td><td>5860384</td><td>10237382</td><td>4111937</td><td>4449573</td><td>626044.8</td><td>4722370.4</td><td>3981332</td></tr>\n",
       "</tbody>\n",
       "</table>\n"
      ],
      "text/latex": [
       "A tibble: 6 × 14\n",
       "\\begin{tabular}{llllllllllllll}\n",
       " year\\_th & ex\\_glutinous & ex\\_white & ex\\_hommali & ex\\_pathum & ex\\_colored & q\\_pathum & q\\_hommali & q\\_white & q\\_glutinous & dom\\_hommali & dom\\_pathum & dom\\_white & dom\\_glutinous\\\\\n",
       " <dbl> & <dbl> & <dbl> & <dbl> & <dbl> & <dbl> & <dbl> & <dbl> & <dbl> & <dbl> & <dbl> & <dbl> & <dbl> & <dbl>\\\\\n",
       "\\hline\n",
       "\t 2557 & 334083.7 & 8604516 & 1869673 & 161071.4 &       NA & 1037038.2 & 5693006 & 12490115 & 5042944 & 3823333 & 875966.8 & 3885598.3 & 4708860\\\\\n",
       "\t 2558 & 264432.5 & 7419719 & 1987232 & 124397.8 &       NA &  737410.7 & 5764920 &  9656676 & 4708132 & 3777689 & 613013.0 & 2236957.9 & 4443700\\\\\n",
       "\t 2559 & 337273.7 & 7071017 & 2367685 & 131892.0 &       NA &  664396.3 & 5796894 &  7492643 & 4143932 & 3429208 & 532504.2 &  421625.6 & 3806658\\\\\n",
       "\t 2560 & 256136.8 & 8711069 & 2308789 & 386209.9 & 12126.20 &  919589.2 & 6125247 &  9470159 & 4510751 & 3816458 & 533379.4 &  759089.1 & 4254614\\\\\n",
       "\t 2561 & 223977.8 & 8876723 & 1665658 & 454415.1 & 11402.34 &  865119.4 & 5982158 & 10568502 & 4297496 & 4316500 & 410704.3 & 1691778.8 & 4073518\\\\\n",
       "\t 2562 & 130604.2 & 5515012 & 1410811 & 514007.5 & 10077.93 & 1140052.3 & 5860384 & 10237382 & 4111937 & 4449573 & 626044.8 & 4722370.4 & 3981332\\\\\n",
       "\\end{tabular}\n"
      ],
      "text/markdown": [
       "\n",
       "A tibble: 6 × 14\n",
       "\n",
       "| year_th &lt;dbl&gt; | ex_glutinous &lt;dbl&gt; | ex_white &lt;dbl&gt; | ex_hommali &lt;dbl&gt; | ex_pathum &lt;dbl&gt; | ex_colored &lt;dbl&gt; | q_pathum &lt;dbl&gt; | q_hommali &lt;dbl&gt; | q_white &lt;dbl&gt; | q_glutinous &lt;dbl&gt; | dom_hommali &lt;dbl&gt; | dom_pathum &lt;dbl&gt; | dom_white &lt;dbl&gt; | dom_glutinous &lt;dbl&gt; |\n",
       "|---|---|---|---|---|---|---|---|---|---|---|---|---|---|\n",
       "| 2557 | 334083.7 | 8604516 | 1869673 | 161071.4 |       NA | 1037038.2 | 5693006 | 12490115 | 5042944 | 3823333 | 875966.8 | 3885598.3 | 4708860 |\n",
       "| 2558 | 264432.5 | 7419719 | 1987232 | 124397.8 |       NA |  737410.7 | 5764920 |  9656676 | 4708132 | 3777689 | 613013.0 | 2236957.9 | 4443700 |\n",
       "| 2559 | 337273.7 | 7071017 | 2367685 | 131892.0 |       NA |  664396.3 | 5796894 |  7492643 | 4143932 | 3429208 | 532504.2 |  421625.6 | 3806658 |\n",
       "| 2560 | 256136.8 | 8711069 | 2308789 | 386209.9 | 12126.20 |  919589.2 | 6125247 |  9470159 | 4510751 | 3816458 | 533379.4 |  759089.1 | 4254614 |\n",
       "| 2561 | 223977.8 | 8876723 | 1665658 | 454415.1 | 11402.34 |  865119.4 | 5982158 | 10568502 | 4297496 | 4316500 | 410704.3 | 1691778.8 | 4073518 |\n",
       "| 2562 | 130604.2 | 5515012 | 1410811 | 514007.5 | 10077.93 | 1140052.3 | 5860384 | 10237382 | 4111937 | 4449573 | 626044.8 | 4722370.4 | 3981332 |\n",
       "\n"
      ],
      "text/plain": [
       "  year_th ex_glutinous ex_white ex_hommali ex_pathum ex_colored q_pathum \n",
       "1 2557    334083.7     8604516  1869673    161071.4        NA   1037038.2\n",
       "2 2558    264432.5     7419719  1987232    124397.8        NA    737410.7\n",
       "3 2559    337273.7     7071017  2367685    131892.0        NA    664396.3\n",
       "4 2560    256136.8     8711069  2308789    386209.9  12126.20    919589.2\n",
       "5 2561    223977.8     8876723  1665658    454415.1  11402.34    865119.4\n",
       "6 2562    130604.2     5515012  1410811    514007.5  10077.93   1140052.3\n",
       "  q_hommali q_white  q_glutinous dom_hommali dom_pathum dom_white dom_glutinous\n",
       "1 5693006   12490115 5042944     3823333     875966.8   3885598.3 4708860      \n",
       "2 5764920    9656676 4708132     3777689     613013.0   2236957.9 4443700      \n",
       "3 5796894    7492643 4143932     3429208     532504.2    421625.6 3806658      \n",
       "4 6125247    9470159 4510751     3816458     533379.4    759089.1 4254614      \n",
       "5 5982158   10568502 4297496     4316500     410704.3   1691778.8 4073518      \n",
       "6 5860384   10237382 4111937     4449573     626044.8   4722370.4 3981332      "
      ]
     },
     "metadata": {},
     "output_type": "display_data"
    }
   ],
   "source": [
    "rice_m <- export_wide_m %>% \n",
    "  mutate(date = as.Date(paste0(year_th-543, '-', month, '-1')))\n",
    "\n",
    "rice_y <- export_wide_y %>% \n",
    "  left_join(production_wide_y, by = 'year_th') %>%\n",
    "  mutate(dom_hommali = q_hommali - ex_hommali,\n",
    "         dom_pathum = q_pathum - ex_pathum,\n",
    "         dom_white = q_white - ex_white,\n",
    "         dom_glutinous = q_glutinous - ex_glutinous\n",
    "        ) %>%\n",
    "  filter(year_th >= 2545)\n",
    "\n",
    "rice_m %>% tail\n",
    "rice_y %>% tail"
   ]
  },
  {
   "cell_type": "markdown",
   "metadata": {},
   "source": [
    "# Save"
   ]
  },
  {
   "cell_type": "code",
   "execution_count": 5,
   "metadata": {},
   "outputs": [],
   "source": [
    "# save in csv format\n",
    "rice_y %>% write_excel_csv('../data/clean/rice_y.csv')\n",
    "rice_m %>% write_excel_csv('../data/clean/rice_m.csv')"
   ]
  },
  {
   "cell_type": "markdown",
   "metadata": {},
   "source": [
    "### Read"
   ]
  },
  {
   "cell_type": "code",
   "execution_count": null,
   "metadata": {},
   "outputs": [],
   "source": [
    "rice_a = read_csv('../data/rice_a.csv') \n",
    "rice_m = read_csv('../data/rice_m.csv')\n",
    "rice_m_ts = rice_m %>% tk_ts(start = 2545-543, frequency = 12)\n",
    "\n",
    "price = read_csv(\"../data/price_rice.csv\") %>%\n",
    "  filter(year(date) < 2020)\n",
    "price_ts = price %>% tk_ts(start = 2000, frequency = 12)\n",
    "\n",
    "exo = read_csv(\"../data/wdi_exo.csv\")\n",
    "exo_ts = exo %>% tk_ts(start = 2002, frequency = 1)\n",
    "\n",
    "data = ts_c(rice_m_ts, price_ts, exo_ts) %>% window(start = 2003)\n",
    "\n",
    "data = data %>% na.locf()"
   ]
  },
  {
   "cell_type": "code",
   "execution_count": null,
   "metadata": {},
   "outputs": [],
   "source": [
    "data %>% head"
   ]
  },
  {
   "cell_type": "markdown",
   "metadata": {},
   "source": [
    "## Data Visualization"
   ]
  },
  {
   "cell_type": "code",
   "execution_count": null,
   "metadata": {},
   "outputs": [],
   "source": [
    "p_hommali = ggplot(rice_a, aes(x=year_th)) +\n",
    "  geom_line( aes(y=dom_hommali/1e6, color = 'Domestic')) + \n",
    "  geom_line( aes(y=ex_hommali/1e6, color = 'Export')) + \n",
    "  scale_colour_manual(\"\",\n",
    "                      label = c('บริโภคในประเทศ', 'ส่งออก'),\n",
    "                      breaks = c(\"Domestic\", \"Export\"),\n",
    "                      values = c(\"Domestic\"=\"#0b53c1\", \n",
    "                                 \"Export\"=\"#ff0055\")\n",
    "                     ) +\n",
    "  labs(title = 'ข้าวหอมมะลิ',\n",
    "       x =  \"ปี\",\n",
    "       y = 'ล้านตันข้าวสาร'\n",
    "      ) +\n",
    "  expand_limits(y = 0) +\n",
    "  scale_y_continuous(label = comma) +\n",
    "  theme_ipsum(\n",
    "    base_size = 16,\n",
    "    base_family = \"Athiti Light\",\n",
    "    axis_title_size = 16\n",
    "  ) +\n",
    "  theme(\n",
    "    legend.position = c(1, 1),\n",
    "    legend.direction = 'horizontal',\n",
    "    legend.justification = 'right',\n",
    "    legend.title = element_blank()\n",
    "  )\n",
    "\n",
    "p_hommali\n",
    "ggsave('../figures/plot_hommali.png', width = 8, height = 4)"
   ]
  },
  {
   "cell_type": "code",
   "execution_count": null,
   "metadata": {
    "jupyter": {
     "source_hidden": true
    }
   },
   "outputs": [],
   "source": [
    "p_pathum = ggplot(rice_a, aes(x=year_th)) +\n",
    "  geom_line( aes(y=dom_pathum/1e6, color = 'Domestic')) + \n",
    "  geom_line( aes(y=ex_pathum/1e6, color = 'Export')) + \n",
    "  scale_colour_manual(\"\",\n",
    "                      label = c('บริโภคในประเทศ', 'ส่งออก'),\n",
    "                      breaks = c(\"Domestic\", \"Export\"),\n",
    "                      values = c(\"Domestic\"=\"#0b53c1\", \n",
    "                                 \"Export\"=\"#ff0055\")\n",
    "                     ) +\n",
    "  labs(title = 'ข้าวหอมปทุม',\n",
    "       x =  \"ปี\",\n",
    "       y = 'ล้านตันข้าวสาร'\n",
    "      ) +\n",
    "  expand_limits(y = 0) +\n",
    "  scale_y_continuous(label = comma) +\n",
    "  theme_ipsum(\n",
    "    base_size = 16,\n",
    "    base_family = \"Athiti Light\",\n",
    "    axis_title_size = 16\n",
    "  ) +\n",
    "  theme(\n",
    "    legend.position = c(1, 1),\n",
    "    legend.direction = 'horizontal',\n",
    "    legend.justification = 'right',\n",
    "    legend.title = element_blank()\n",
    "  )\n",
    "\n",
    "p_pathum\n",
    "ggsave('../figures/plot_pathum.png', width = 8, height = 4)"
   ]
  },
  {
   "cell_type": "code",
   "execution_count": null,
   "metadata": {
    "jupyter": {
     "source_hidden": true
    }
   },
   "outputs": [],
   "source": [
    "p_white = ggplot(rice_a, aes(x=year_th)) +\n",
    "  geom_line( aes(y=dom_white/1e6, color = 'Domestic')) + \n",
    "  geom_line( aes(y=ex_white/1e6, color = 'Export')) + \n",
    "  scale_colour_manual(\"\",\n",
    "                      label = c('บริโภคในประเทศ', 'ส่งออก'),\n",
    "                      breaks = c(\"Domestic\", \"Export\"),\n",
    "                      values = c(\"Domestic\"=\"#0b53c1\", \n",
    "                                 \"Export\"=\"#ff0055\")\n",
    "                     ) +\n",
    "  labs(title = 'ข้าวเจ้าขาว',\n",
    "       x =  \"ปี\",\n",
    "       y = 'ล้านตันข้าวสาร'\n",
    "      ) +\n",
    "  expand_limits(y = 0) +\n",
    "  scale_y_continuous(label = comma) +\n",
    "  theme_ipsum(\n",
    "    base_size = 16,\n",
    "    base_family = \"Athiti Light\",\n",
    "    axis_title_size = 16\n",
    "  ) +\n",
    "  theme(\n",
    "    legend.position = c(1, 1),\n",
    "    legend.direction = 'horizontal',\n",
    "    legend.justification = 'right',\n",
    "    legend.title = element_blank()\n",
    "  )\n",
    "\n",
    "p_white\n",
    "ggsave('../figures/plot_white.png', width = 8, height = 4)"
   ]
  },
  {
   "cell_type": "code",
   "execution_count": null,
   "metadata": {
    "jupyter": {
     "source_hidden": true
    }
   },
   "outputs": [],
   "source": [
    "p_glutinous = ggplot(rice_a, aes(x=year_th)) +\n",
    "  geom_line( aes(y=dom_glutinous/1e6, color = 'Domestic')) + \n",
    "  geom_line( aes(y=ex_glutinous/1e6, color = 'Export')) + \n",
    "  scale_colour_manual(\"\",\n",
    "                      label = c('บริโภคในประเทศ', 'ส่งออก'),\n",
    "                      breaks = c(\"Domestic\", \"Export\"),\n",
    "                      values = c(\"Domestic\"=\"#0b53c1\", \n",
    "                                 \"Export\"=\"#ff0055\")\n",
    "                     ) +\n",
    "  labs(title = 'ข้าวเหนียว',\n",
    "       x =  \"ปี\",\n",
    "       y = 'ล้านตันข้าวสาร'\n",
    "      ) +\n",
    "  expand_limits(y = 0) +\n",
    "  scale_y_continuous(label = comma) +\n",
    "  theme_ipsum(\n",
    "    base_size = 16,\n",
    "    base_family = \"Athiti Light\",\n",
    "    axis_title_size = 16\n",
    "  ) +\n",
    "  theme(\n",
    "    legend.position = c(1, 1),\n",
    "    legend.direction = 'horizontal',\n",
    "    legend.justification = 'right',\n",
    "    legend.title = element_blank()\n",
    "  )\n",
    "\n",
    "p_glutinous\n",
    "ggsave('../figures/plot_glutinous.png', width = 8, height = 4)"
   ]
  },
  {
   "cell_type": "code",
   "execution_count": null,
   "metadata": {},
   "outputs": [],
   "source": [
    "ggplot(rice_m, aes(x=date)) +\n",
    "  geom_line( aes(y=ex_hommali/1e6, color = 'ข้าวหอมมะลิ')) +\n",
    "  geom_line( aes(y=ex_pathum/1e6, color = 'ข้าวหอมปทุม')) +\n",
    "  geom_line( aes(y=ex_white/1e6, color = 'ข้าวเจ้าขาว')) +\n",
    "  geom_line( aes(y=ex_glutinous/1e6, color = 'ข้าวเหนียว')) +\n",
    "  scale_color_d3() +\n",
    "  expand_limits(y = 0) +\n",
    "  scale_y_continuous(label = comma) +\n",
    "  labs(title = 'ปริมาณส่งออกข้าวสารของไทย',\n",
    "       x =  \"ปี\",\n",
    "       y = 'ล้านตันข้าวสาร'\n",
    "      ) +\n",
    "  theme_ipsum(\n",
    "    base_size = 16,\n",
    "    base_family = \"Athiti Light\",\n",
    "    axis_title_size = 16\n",
    "  ) +\n",
    "  theme(\n",
    "    legend.position = c(1, 1),\n",
    "    legend.direction = 'horizontal',\n",
    "    legend.justification = 'right',\n",
    "    legend.title = element_blank()\n",
    "  ) +\n",
    "  scale_x_date(date_breaks = '2 years',\n",
    "               labels = function(x) year(x)+543\n",
    "               )\n",
    "\n",
    "ggsave('../figures/plot_export_m.png', width = 10, height = 7)"
   ]
  },
  {
   "cell_type": "markdown",
   "metadata": {},
   "source": [
    "## Unit Root Test"
   ]
  },
  {
   "cell_type": "code",
   "execution_count": null,
   "metadata": {},
   "outputs": [],
   "source": [
    "get_objname = function(x) deparse(substitute(x))\n",
    "\n",
    "ur_adf = function(y, n_diff = 0, varname = NULL, ...) {\n",
    "  \n",
    "  varname = if (is.null(varname)) deparse(substitute(y)) else varname\n",
    "  y = if(n_diff == 0) y else diff(y, n_diff)\n",
    "  \n",
    "  ur.trend = ur.df(y, type='trend', selectlags = \"AIC\", ...)\n",
    "  ur.drift = ur.df(y, type='drift', selectlags = \"AIC\", ...)\n",
    "  ur.none  = ur.df(y, type='none', selectlags = \"AIC\", ...)\n",
    "\n",
    "  tstat.trend = ur.trend@teststat\n",
    "  tstat.drift = ur.drift@teststat\n",
    "  tstat.none  = ur.none@teststat\n",
    "\n",
    "  cv.trend = ur.trend@cval\n",
    "  cv.drift = ur.drift@cval\n",
    "  cv.none  = ur.none@cval\n",
    "\n",
    "  df_test = rbind(\n",
    "    cbind(t(tstat.trend), cv.trend),\n",
    "    cbind(t(tstat.drift), cv.drift),\n",
    "    cbind(t(tstat.none) , cv.none)\n",
    "  ) %>% \n",
    "  as.data.frame() %>%\n",
    "  rownames_to_column(\"hypo\") %>%\n",
    "  mutate(\n",
    "    result = ifelse(abs(statistic) >= abs(`5pct`), 'Reject', 'Accept'),\n",
    "    variable = varname,\n",
    "    level = paste0('d', n_diff),\n",
    "    statistic = round(statistic, 2),\n",
    "  ) %>%\n",
    "  filter(str_starts(hypo, 'tau')) %>%\n",
    "  select(variable, hypo, level, everything())\n",
    "  \n",
    "  return(df_test)\n",
    "}"
   ]
  },
  {
   "cell_type": "code",
   "execution_count": null,
   "metadata": {},
   "outputs": [],
   "source": [
    "ex_hommali = data[, 'ex_hommali'] %>% log()\n",
    "ex_white = data[, 'ex_white'] %>% log()\n",
    "p_w5_th = data[, 'p_w5_th'] %>% log()\n",
    "p_w5_vn = data[, 'p_w5_vn'] %>% log()\n",
    "p_h100_th = data[, 'p_h100_th'] %>% log()\n",
    "gdppc = data[, 'gdppc'] %>% log()\n",
    "pop = data[, 'pop'] %>% log()\n",
    "\n",
    "vars_list = list(\n",
    "  ex_hommali = ex_hommali, \n",
    "  ex_white = ex_white, \n",
    "  p_w5_th = p_w5_th, \n",
    "  p_w5_vn = p_w5_vn, \n",
    "  p_h100_th = p_h100_th,\n",
    "  gdppc = gdppc, \n",
    "  pop = pop\n",
    ")\n",
    "\n",
    "varnames = rep(names(vars_list), 2)\n",
    "\n",
    "params = expand_grid(varnames, c(0,1)) %>%\n",
    "  set_names(c('names', 'ndiff')) %>%\n",
    "  mutate(ser = vars_list[names])\n",
    "\n",
    "pmap(list(params$ser, params$ndiff, params$names), \n",
    "     function(first, second, third) {\n",
    "       ur_adf(first, second, third)\n",
    "     }) %>% \n",
    "  reduce(rbind) %>% \n",
    "  write_excel_csv('../results/adf_table.csv') %>%\n",
    "  print()\n",
    "\n",
    "# rbind(\n",
    "#   ur_adf(ex_hommali, 0)   , ur_adf(ex_hommali, 1),\n",
    "#   ur_adf(ex_white, 0)     , ur_adf(ex_white, 1),\n",
    "#   ur_adf(p_w5_th, 0)      , ur_adf(p_w5_th, 1),\n",
    "#   ur_adf(p_w5_vn, 0)      , ur_adf(p_w5_vn, 1),\n",
    "#   ur_adf(p_h100_th, 0)    , ur_adf(p_h100_th, 1)\n",
    "# ) %>% print()"
   ]
  },
  {
   "cell_type": "markdown",
   "metadata": {},
   "source": [
    "## Define function"
   ]
  },
  {
   "cell_type": "code",
   "execution_count": null,
   "metadata": {},
   "outputs": [],
   "source": [
    "ex_hommali %>% subset(end = 12*14)"
   ]
  },
  {
   "cell_type": "code",
   "execution_count": null,
   "metadata": {},
   "outputs": [],
   "source": [
    "14*12"
   ]
  },
  {
   "cell_type": "code",
   "execution_count": null,
   "metadata": {},
   "outputs": [],
   "source": [
    "ets_vec = Vectorize(ets)\n",
    "x = ex_hommali %>% subset(end = 120)\n",
    "params = list(y = x, model = \"ZZZ\", damped = FALSE)\n",
    "\n",
    "# ets(ex_hommali %>% subset(end = 120), params)\n",
    "res = do.call(ets, params)"
   ]
  },
  {
   "cell_type": "code",
   "execution_count": null,
   "metadata": {},
   "outputs": [],
   "source": [
    "# forecast(res, 12)\n",
    "# ets(ex_hommali %>% subset(end = 120), model = \"ZZZ\", damped = FALSE) %>% str()"
   ]
  },
  {
   "cell_type": "code",
   "execution_count": null,
   "metadata": {},
   "outputs": [],
   "source": [
    "params = list(model = \"ZZZ\", damped = FALSE)\n",
    "c(y = \"xx\", params)"
   ]
  },
  {
   "cell_type": "markdown",
   "metadata": {},
   "source": [
    "# Strategy\n",
    "1. "
   ]
  },
  {
   "cell_type": "code",
   "execution_count": null,
   "metadata": {},
   "outputs": [],
   "source": [
    "params = list(model = \"ZZZ\", damped = NULL)\n",
    "\n",
    "ets_fcast = function(i, data, params, h=1) {\n",
    "  y = data %>% subset(end = i)\n",
    "  params$y = y\n",
    "  fitted = do.call(forecast::ets, params)\n",
    "  res = fitted %>% forecast(h=h) %>% as.data.frame()\n",
    "  return(res)\n",
    "}\n",
    "\n",
    "rolling_ets = function(data, params, n_initial, h) {\n",
    "  n_sample = length(data)\n",
    "  res = n_initial:n_sample %>% \n",
    "    map(ets_fcast, data = data, params = params, h = h) %>% \n",
    "    reduce(rbind)\n",
    "  return(res)\n",
    "}\n",
    "\n",
    "x = rolling_ets(\n",
    "  ex_hommali, \n",
    "  params = list(model = \"AAA\", damped = TRUE) , \n",
    "  n_initial = 168, h = 1)\n",
    "\n",
    "x"
   ]
  },
  {
   "cell_type": "code",
   "execution_count": null,
   "metadata": {},
   "outputs": [],
   "source": [
    "# fit function\n",
    "fets = function(x, model='AAN', damped = FALSE, h=h) {\n",
    "  forecast::ets(x, model = model, damped = damped) %>% forecast(h=h)\n",
    "}\n",
    "\n",
    "fets.auto = function(x, h=h) {\n",
    "  forecast::ets(x, model = 'ZZZ', damped = NULL) %>% forecast(h=h)\n",
    "}\n",
    "\n",
    "farima = function(x, order = c(0,0,0), seasonal = c(0,0,0), h=h) {\n",
    "  forecast::Arima(x,\n",
    "                  order = order, \n",
    "                  seasonal = seasonal,\n",
    "                 ) %>% forecast(h=h)\n",
    "}\n",
    "\n",
    "farima.auto = function(x, d=0, h=h) {\n",
    "  forecast::auto.arima(x, d=d) %>% forecast(h=h)\n",
    "}\n",
    "\n",
    "\n",
    "# accuracy measurement\n",
    "rmse = function(data, h = h) {\n",
    "  data = data %>% select('actual', starts_with('yhat')) %>% exp()\n",
    "  h = ncol(data) - 1\n",
    "  for (i in seq(h)) {\n",
    "    data[, paste0('e', i)] = (\n",
    "      lead(data[,'actual'], i) - data[, paste0('yhat', i)]\n",
    "    )^2\n",
    "  }\n",
    "  rmse_score = data %>% select(starts_with('e')) %>% \n",
    "    as.matrix() %>% mean(na.rm = TRUE) %>% sqrt()\n",
    "  \n",
    "  return(rmse_score)\n",
    "}\n",
    "\n",
    "mape = function(data, h = h) {\n",
    "  data = data %>% select('actual', starts_with('yhat')) %>% exp()\n",
    "  h = ncol(data) - 1\n",
    "  for (i in seq(h)) {\n",
    "    data[, paste0('e', i)] = abs(\n",
    "      lead(data[,'actual'], i) - data[, paste0('yhat', i)]\n",
    "    )*100 / lead(data[,'actual'], i)\n",
    "  }\n",
    "  mape_score = data %>% select(starts_with('e')) %>% \n",
    "    as.matrix() %>% mean(na.rm = TRUE)\n",
    "  \n",
    "  return(mape_score)\n",
    "}\n",
    "\n",
    "eval_ets = function(x, params, h = 2, initial = 11) {\n",
    "  pmap(\n",
    "    list(params$model, params$damped), \n",
    "    function(first, second) {\n",
    "      \n",
    "      # 1 compute forecast error using time series cross validation\n",
    "      error = tsCV(x, fets, h = h, initial = initial, \n",
    "                   model = first, \n",
    "                   damped = second\n",
    "                  ) %>% as.data.frame()\n",
    "      new_colnames = c('actual', paste0('e', seq(1:h)))\n",
    "      error = data.frame(x, error) %>% set_names(new_colnames)\n",
    "      \n",
    "      # 2 compute predicted (yhat)\n",
    "      for (i in seq(h)) {\n",
    "        error[, paste0('yhat', i)] = (\n",
    "          lead(error[,'actual'], i) - error[, paste0('e', i)]\n",
    "        )\n",
    "      }\n",
    "      \n",
    "      # 3 compute rmse, mape\n",
    "      data.frame(\n",
    "        model = paste(first, second, sep = '-'),\n",
    "        rmse = rmse(error),\n",
    "        mape = mape(error)\n",
    "      ) %>% na.omit()\n",
    "    }\n",
    "  ) %>% \n",
    "  reduce(bind_rows) %>%\n",
    "  arrange(rmse)\n",
    "}\n",
    "\n",
    "eval_arima = function(x, params, h = 2, initial = 11) {\n",
    "  pmap(\n",
    "    list(params$order, params$seasonal), \n",
    "    function(first, second) {\n",
    "      \n",
    "      # 1 compute forecast error using time series cross validation\n",
    "      error = tsCV(x, farima, h = h, initial = initial, \n",
    "                   order = first, \n",
    "                   seasonal = second\n",
    "                  ) %>% as.data.frame()\n",
    "      new_colnames = c('actual', paste0('e', seq(1:h)))\n",
    "      error = data.frame(x, error) %>% set_names(new_colnames)\n",
    "      \n",
    "      # 2 compute predicted (yhat)\n",
    "      for (i in seq(h)) {\n",
    "        error[, paste0('yhat', i)] = (\n",
    "          lead(error[,'actual'], i) - error[, paste0('e', i)]\n",
    "        )\n",
    "      }\n",
    "  \n",
    "      # 3 compute rmse, mape\n",
    "      data.frame(\n",
    "        model = paste(paste(first, collapse = ','), \n",
    "                      paste(second, collapse = ','), sep = '-'),\n",
    "        rmse = rmse(error),\n",
    "        mape = mape(error)\n",
    "      ) %>% na.omit()\n",
    "    }\n",
    "  ) %>% \n",
    "  reduce(bind_rows) %>%\n",
    "  arrange(rmse)\n",
    "}"
   ]
  },
  {
   "cell_type": "markdown",
   "metadata": {},
   "source": [
    "## Export"
   ]
  },
  {
   "cell_type": "code",
   "execution_count": null,
   "metadata": {},
   "outputs": [],
   "source": [
    "# ETS params\n",
    "Z1 = c('A','M')\n",
    "Z2 = c('N', 'A', 'M')\n",
    "Z3 = c('N', 'A', 'M')\n",
    "damped = c(FALSE, TRUE)\n",
    "\n",
    "ets_params = expand.grid(Z1, Z2, Z3, damped) %>%\n",
    "  mutate(\n",
    "    model = paste0(Var1, Var2, Var3),\n",
    "    damped = Var4\n",
    ") %>% select(model, damped)\n",
    "\n",
    "# ARIMA params\n",
    "p = seq(0,2)\n",
    "q = seq(0,2)\n",
    "P = seq(0,1)\n",
    "Q = seq(0,1)\n",
    "\n",
    "arima_params = expand.grid(p,q,P,Q) %>% rowwise() %>%\n",
    "  mutate(\n",
    "    order = pmap(list(Var1, Var2), function(x, y) c(x, 0, y)),\n",
    "    seasonal = pmap(list(Var3, Var4), function(x, y) c(x, 0, y)),\n",
    "  ) %>% select(order, seasonal)"
   ]
  },
  {
   "cell_type": "code",
   "execution_count": null,
   "metadata": {},
   "outputs": [],
   "source": [
    "(length(ex_hommali)-8) * 0.80 / 12\n",
    "216-36"
   ]
  },
  {
   "cell_type": "code",
   "execution_count": null,
   "metadata": {},
   "outputs": [],
   "source": [
    "h = 1\n",
    "initial = 180\n",
    "\n",
    "e.ets.ex_hml = eval_ets(\n",
    "  ex_hommali %>% log(), params = ets_params, h = h, initial = initial\n",
    ")\n",
    "e.ets.ex_wht = eval_ets(\n",
    "  ex_white %>% log(), params = ets_params, h = h, initial = initial\n",
    ")"
   ]
  },
  {
   "cell_type": "code",
   "execution_count": null,
   "metadata": {},
   "outputs": [],
   "source": [
    "e.arima.ex_hml = eval_arima(\n",
    "  ex_hommali %>% log(), params = arima_params, h = h, initial = initial\n",
    ")\n",
    "e.arima.ex_wht = eval_arima(\n",
    "  ex_white %>% log(), params = arima_params, h = h, initial = initial\n",
    ")"
   ]
  },
  {
   "cell_type": "code",
   "execution_count": null,
   "metadata": {},
   "outputs": [],
   "source": [
    "# acc_ex_hml1 = list(ets = e.ets.ex_hml, e.arima.ex_hml)\n",
    "# acc_ex_pat1 = list(ets = e.ets.ex_pat, e.arima.ex_pat)\n",
    "# acc_ex_wht1 = list(ets = e.ets.ex_wht, e.arima.ex_wht)\n",
    "# acc_ex_glu1 = list(ets = e.ets.ex_glu, e.arima.ex_glu)"
   ]
  },
  {
   "cell_type": "code",
   "execution_count": null,
   "metadata": {},
   "outputs": [],
   "source": [
    "acc_ex_hml = list(ets = e.ets.ex_hml %>% head(3), \n",
    "                  arima = e.arima.ex_hml %>% head(3))\n",
    "acc_ex_wht = list(ets = e.ets.ex_wht %>% head(3), \n",
    "                  arima = e.arima.ex_wht %>% head(3))"
   ]
  },
  {
   "cell_type": "code",
   "execution_count": null,
   "metadata": {},
   "outputs": [],
   "source": [
    "acc_ex_hml"
   ]
  },
  {
   "cell_type": "code",
   "execution_count": null,
   "metadata": {},
   "outputs": [],
   "source": [
    "acc_ex_wht"
   ]
  },
  {
   "cell_type": "code",
   "execution_count": null,
   "metadata": {},
   "outputs": [],
   "source": [
    "fets <- function(x, model='AAN', damped = FALSE, h=1) {\n",
    "  forecast(ets(x, model=model, damped = damped), h=h)\n",
    "}\n",
    "\n",
    "farima <- function(x, d, h=1) {\n",
    "  forecast(auto.arima(x, d=d), h=h)\n",
    "}"
   ]
  },
  {
   "cell_type": "code",
   "execution_count": null,
   "metadata": {},
   "outputs": [],
   "source": [
    "2016+543"
   ]
  },
  {
   "cell_type": "code",
   "execution_count": null,
   "metadata": {},
   "outputs": [],
   "source": [
    "accuracy(res_hml)"
   ]
  },
  {
   "cell_type": "code",
   "execution_count": null,
   "metadata": {},
   "outputs": [],
   "source": [
    "accuracy_ = function(actual, fitted) {\n",
    "  error = actual - fitted\n",
    "  n = length(actual)\n",
    "  rmse = sqrt(sum(error**2)/n)\n",
    "  mape = mean(abs(error/actual)*100)\n",
    "  res = data.frame(rmse, mape)\n",
    "  return(res)\n",
    "}"
   ]
  },
  {
   "cell_type": "code",
   "execution_count": null,
   "metadata": {},
   "outputs": [],
   "source": [
    "actual = ex_hommali %>% window(end = c(2016, 12))\n",
    "fitted_model = ets(actual %>% log(), model = 'MAA', damped = TRUE)\n",
    "fitted = exp(fitted_model$fitted)\n",
    "accuracy_(actual, fitted)"
   ]
  },
  {
   "cell_type": "code",
   "execution_count": null,
   "metadata": {},
   "outputs": [],
   "source": [
    "actual = ex_hommali %>% window(end = c(2016, 12))\n",
    "fitted_model = Arima(actual %>% log(), \n",
    "                     order = c(1,0,1), seasonal = c(1,0,1)\n",
    "                    )\n",
    " \n",
    "fitted = exp(fitted_model$fitted)\n",
    "accuracy_(actual, fitted)"
   ]
  },
  {
   "cell_type": "code",
   "execution_count": null,
   "metadata": {},
   "outputs": [],
   "source": [
    "actual = ex_white %>% window(end = c(2016, 12))\n",
    "fitted_model = ets(actual %>% log(), model = 'MMN', damped = FALSE)\n",
    "fitted = exp(fitted_model$fitted)\n",
    "accuracy_(actual, fitted)"
   ]
  },
  {
   "cell_type": "code",
   "execution_count": null,
   "metadata": {},
   "outputs": [],
   "source": [
    "actual = ex_white %>% window(end = c(2016, 12))\n",
    "fitted_model = Arima(actual %>% log(), \n",
    "                     order = c(1,0,1), seasonal = c(1,0,1)\n",
    "                    )\n",
    "fitted = exp(fitted_model$fitted)\n",
    "accuracy_(actual, fitted)"
   ]
  },
  {
   "cell_type": "code",
   "execution_count": null,
   "metadata": {},
   "outputs": [],
   "source": [
    "fets(ex_hommali %>% log(), model = 'MAA', damped = TRUE, h = 24) %>% \n",
    "  autoplot() +\n",
    "  theme_ipsum_rc(base_size = 14) + \n",
    "  labs(subtitle = 'ข้าวหอมมะลิ')\n",
    "ggsave('../figures/plot_ets_hommali_ex.png', width = 10, height = 5)\n",
    "\n",
    "\n",
    "fets(ex_white %>% log(), model = 'MMN', damped = FALSE, h = 24) %>% \n",
    "  autoplot() +\n",
    "  theme_ipsum_rc(base_size = 14) + \n",
    "  labs(subtitle = 'ข้าวเจ้าขาว')\n",
    "ggsave('../figures/plot_ets_white_ex.png', width = 10, height = 5)"
   ]
  },
  {
   "cell_type": "code",
   "execution_count": null,
   "metadata": {},
   "outputs": [],
   "source": [
    "fets(ex_hommali %>% log(), model = 'MAA', damped = TRUE, h = 24) %>%\n",
    "  as.data.frame() %>%\n",
    "  write_excel_csv('../results/export_hml.csv')\n",
    "\n",
    "fets(ex_white %>% log(), model = 'MMN', damped = FALSE, h = 24) %>%\n",
    "  as.data.frame() %>%\n",
    "  write_excel_csv('../results/export_wht.csv')\n",
    "\n",
    "# farima(ex_pathum %>% log(), \n",
    "#        order = c(1,0,1), seasonal = c(1,0,1), h = 24) %>%\n",
    "#   as.data.frame() %>%\n",
    "#   write_excel_csv('../results/export_pat.csv')\n",
    "\n",
    "\n",
    "# farima(ex_glutinous %>% log(), \n",
    "#        order = c(2,0,1), \n",
    "#        seasonal = c(1,0,1), h = 24) %>%\n",
    "#   as.data.frame() %>%\n",
    "#   write_excel_csv('../results/export_glu.csv')"
   ]
  },
  {
   "cell_type": "code",
   "execution_count": null,
   "metadata": {},
   "outputs": [],
   "source": [
    "fets(log(ts_export[,'ex_hommali']), h = 24) %>% autoplot() +\n",
    "  theme_ipsum_rc(base_size = 14) + \n",
    "  labs(subtitle = 'Hommali Rice')\n",
    "ggsave('../figures/plot_ets_exp_hml.png', width = 8, height = 5)\n",
    "\n",
    "fets(log(ts_export[,'ex_pathum']), h = 24) %>% autoplot() +\n",
    "  theme_ipsum_rc(base_size = 14) + \n",
    "  labs(subtitle = 'Pathumtani Rice')\n",
    "ggsave('../figures/plot_ets_exp_pat.png', width = 8, height = 5)\n",
    "\n",
    "fets(log(ts_export[,'ex_white']), h = 24) %>% autoplot() +\n",
    "  theme_ipsum_rc(base_size = 14) + \n",
    "  labs(subtitle = 'White Rice')\n",
    "ggsave('../figures/plot_ets_exp_wht.png', width = 8, height = 5)\n",
    "\n",
    "fets(log(ts_export[,'ex_glutinous']), h = 24) %>% autoplot() +\n",
    "  theme_ipsum_rc(base_size = 14) + \n",
    "  labs(subtitle = 'Glutinous Rice')\n",
    "ggsave('../figures/plot_ets_exp_glu.png', width = 8, height = 5)"
   ]
  },
  {
   "cell_type": "markdown",
   "metadata": {},
   "source": [
    "## ARIMA"
   ]
  },
  {
   "cell_type": "code",
   "execution_count": null,
   "metadata": {},
   "outputs": [],
   "source": [
    "farima <- function(x, d, h=2) {\n",
    "  forecast(auto.arima(x, d=d), h=h)\n",
    "}"
   ]
  },
  {
   "cell_type": "code",
   "execution_count": null,
   "metadata": {},
   "outputs": [],
   "source": [
    "farima(log(data$dom_hommali), d=1, h=2) %>% autoplot() +\n",
    "  theme_ipsum_rc(base_size = 14) + \n",
    "  labs(subtitle = 'Hommali Rice')\n",
    "ggsave('../figures/plot_arima_dom_hml.png', width = 8, height = 4)\n",
    "\n",
    "farima(log(data$dom_pathum), d=1, h=2) %>% autoplot() +\n",
    "  theme_ipsum_rc(base_size = 14) + \n",
    "  labs(subtitle = 'Pathumtani Rice')\n",
    "ggsave('../figures/plot_arima_dom_pat.png', width = 8, height = 4)\n",
    "\n",
    "farima(log(data$dom_white), d=1, h=2) %>% autoplot() +\n",
    "  theme_ipsum_rc(base_size = 14) + \n",
    "  labs(subtitle = 'White Rice')\n",
    "ggsave('../figures/plot_arima_dom_wht.png', width = 8, height = 4)\n",
    "\n",
    "farima(log(data$dom_glutinous), d=1, h=2) %>% autoplot() +\n",
    "  theme_ipsum_rc(base_size = 14) + \n",
    "  labs(subtitle = 'Glutinous Rice')\n",
    "ggsave('../figures/plot_arima_dom_glu.png', width = 8, height = 4)"
   ]
  },
  {
   "cell_type": "code",
   "execution_count": null,
   "metadata": {},
   "outputs": [],
   "source": [
    "farima(log(ts_export[, 'ex_hommali']), d=1, h=24) %>% autoplot() +\n",
    "  theme_ipsum_rc(base_size = 14) + \n",
    "  labs(subtitle = 'Hommali Rice')\n",
    "ggsave('../figures/plot_arima_exp_hml.png', width = 8, height = 4)\n",
    "\n",
    "farima(log(ts_export[, 'ex_pathum']), d=1, h=24) %>% autoplot() +\n",
    "  theme_ipsum_rc(base_size = 14) + \n",
    "  labs(subtitle = 'Pathumtani Rice')\n",
    "ggsave('../figures/plot_arima_exp_pat.png', width = 8, height = 4)\n",
    "\n",
    "farima(log(ts_export[, 'ex_white']), d=1, h=24) %>% autoplot() +\n",
    "  theme_ipsum_rc(base_size = 14) + \n",
    "  labs(subtitle = 'White Rice')\n",
    "ggsave('../figures/plot_arima_exp_wht.png', width = 8, height = 4)\n",
    "\n",
    "farima(log(ts_export[, 'ex_glutinous']), d=1, h=24) %>% autoplot() +\n",
    "  theme_ipsum_rc(base_size = 14) + \n",
    "  labs(subtitle = 'Glutinous Rice')\n",
    "ggsave('../figures/plot_arima_exp_glu.png', width = 8, height = 4)"
   ]
  },
  {
   "cell_type": "code",
   "execution_count": null,
   "metadata": {},
   "outputs": [],
   "source": [
    "# Compute CV errors for ETS as e1\n",
    "e1 <- tsCV(log(data$dom_hommali), fets, h=2, initial = 10)\n",
    "# Compute CV errors for ARIMA as e2\n",
    "e2 <- tsCV(log(data$dom_hommali), farima, d=1, h=2, initial = 10)\n",
    "\n",
    "# MSE\n",
    "# sqrt(mean(e1[10:13,]^2))\n",
    "# sqrt(mean(e2[10:13,]^2))\n",
    "\n",
    "# # MAE\n",
    "# mean(abs(e1[10:13,]))\n",
    "# mean(abs(e2[10:13,]))"
   ]
  },
  {
   "cell_type": "code",
   "execution_count": null,
   "metadata": {},
   "outputs": [],
   "source": [
    "forecast(ets(log(data$ex_hommali)), h = 2)"
   ]
  },
  {
   "cell_type": "code",
   "execution_count": null,
   "metadata": {},
   "outputs": [],
   "source": [
    "forecast(auto.arima(log(data$dom_glutinous), d = 1), h = 2) %>% autoplot()"
   ]
  },
  {
   "cell_type": "markdown",
   "metadata": {},
   "source": [
    "## VAR"
   ]
  },
  {
   "cell_type": "code",
   "execution_count": null,
   "metadata": {},
   "outputs": [],
   "source": [
    "gdppc2 = gdppc ** 2"
   ]
  },
  {
   "cell_type": "code",
   "execution_count": null,
   "metadata": {},
   "outputs": [],
   "source": [
    "endo = ts_c(ex_hommali, ex_white, p_h100_th, p_w5_th, p_w5_vn)\n",
    "exo = ts_c(gdppc, gdppc2, pop)\n",
    "class(exo)"
   ]
  },
  {
   "cell_type": "code",
   "execution_count": null,
   "metadata": {},
   "outputs": [],
   "source": [
    "# endo[, \"ex_hommali\"] %>% stats::lag()"
   ]
  },
  {
   "cell_type": "code",
   "execution_count": null,
   "metadata": {},
   "outputs": [],
   "source": [
    "VARselect(endo, exogen = exo)"
   ]
  },
  {
   "cell_type": "code",
   "execution_count": null,
   "metadata": {},
   "outputs": [],
   "source": [
    "ca.jo(endo, ecdet = 'const', K = 2) %>% summary()"
   ]
  },
  {
   "cell_type": "code",
   "execution_count": null,
   "metadata": {},
   "outputs": [],
   "source": [
    "# subset(endo, end = 180)"
   ]
  },
  {
   "cell_type": "code",
   "execution_count": null,
   "metadata": {},
   "outputs": [],
   "source": [
    "var_fitted = VAR(\n",
    "  endo, \n",
    "  p = 2, \n",
    "  type = \"const\", \n",
    "  exogen = exo)"
   ]
  },
  {
   "cell_type": "code",
   "execution_count": null,
   "metadata": {},
   "outputs": [],
   "source": [
    "serial.test(vecm_export, lags.pt=12, type=\"PT.asymptotic\")"
   ]
  },
  {
   "cell_type": "code",
   "execution_count": null,
   "metadata": {},
   "outputs": [],
   "source": [
    "vecm_export[['varresult']][['ex_hommali']]"
   ]
  },
  {
   "cell_type": "code",
   "execution_count": null,
   "metadata": {},
   "outputs": [],
   "source": [
    "forecast(vecm_export, h = 1, exogen = exo[216]) %>% autoplot()\n",
    "# ggsave('../figures/plot_vecm_exp.png', width = 14, height = 8)"
   ]
  },
  {
   "cell_type": "code",
   "execution_count": null,
   "metadata": {},
   "outputs": [],
   "source": []
  }
 ],
 "metadata": {
  "kernelspec": {
   "display_name": "R",
   "language": "R",
   "name": "ir"
  },
  "language_info": {
   "codemirror_mode": "r",
   "file_extension": ".r",
   "mimetype": "text/x-r-source",
   "name": "R",
   "pygments_lexer": "r",
   "version": "4.0.4"
  },
  "toc-autonumbering": false,
  "toc-showmarkdowntxt": false,
  "toc-showtags": false
 },
 "nbformat": 4,
 "nbformat_minor": 4
}
